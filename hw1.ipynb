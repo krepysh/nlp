{
 "cells": [
  {
   "cell_type": "code",
   "execution_count": 1,
   "metadata": {
    "collapsed": false,
    "deletable": true,
    "editable": true
   },
   "outputs": [
    {
     "name": "stderr",
     "output_type": "stream",
     "text": [
      "/usr/local/lib/python2.7/dist-packages/sklearn/cross_validation.py:44: DeprecationWarning: This module was deprecated in version 0.18 in favor of the model_selection module into which all the refactored classes and functions are moved. Also note that the interface of the new CV iterators are different from that of this module. This module will be removed in 0.20.\n",
      "  \"This module will be removed in 0.20.\", DeprecationWarning)\n"
     ]
    }
   ],
   "source": [
    "import numpy as np\n",
    "import pandas as pd\n",
    "import matplotlib.pyplot as plt\n",
    "from sklearn.feature_extraction.text import CountVectorizer, TfidfVectorizer\n",
    "from sklearn.linear_model import LogisticRegression\n",
    "from sklearn.cross_validation import cross_val_score\n",
    "from sklearn.naive_bayes import MultinomialNB\n",
    "%matplotlib inline"
   ]
  },
  {
   "cell_type": "code",
   "execution_count": 2,
   "metadata": {
    "collapsed": false,
    "deletable": true,
    "editable": true
   },
   "outputs": [
    {
     "data": {
      "text/html": [
       "<div>\n",
       "<table border=\"1\" class=\"dataframe\">\n",
       "  <thead>\n",
       "    <tr style=\"text-align: right;\">\n",
       "      <th></th>\n",
       "      <th>label</th>\n",
       "      <th>text</th>\n",
       "      <th>num_label</th>\n",
       "    </tr>\n",
       "  </thead>\n",
       "  <tbody>\n",
       "    <tr>\n",
       "      <th>0</th>\n",
       "      <td>ham</td>\n",
       "      <td>Go until jurong point, crazy.. Available only ...</td>\n",
       "      <td>0</td>\n",
       "    </tr>\n",
       "    <tr>\n",
       "      <th>1</th>\n",
       "      <td>ham</td>\n",
       "      <td>Ok lar... Joking wif u oni...</td>\n",
       "      <td>0</td>\n",
       "    </tr>\n",
       "    <tr>\n",
       "      <th>2</th>\n",
       "      <td>spam</td>\n",
       "      <td>Free entry in 2 a wkly comp to win FA Cup fina...</td>\n",
       "      <td>1</td>\n",
       "    </tr>\n",
       "    <tr>\n",
       "      <th>3</th>\n",
       "      <td>ham</td>\n",
       "      <td>U dun say so early hor... U c already then say...</td>\n",
       "      <td>0</td>\n",
       "    </tr>\n",
       "    <tr>\n",
       "      <th>4</th>\n",
       "      <td>ham</td>\n",
       "      <td>Nah I don't think he goes to usf, he lives aro...</td>\n",
       "      <td>0</td>\n",
       "    </tr>\n",
       "  </tbody>\n",
       "</table>\n",
       "</div>"
      ],
      "text/plain": [
       "  label                                               text  num_label\n",
       "0   ham  Go until jurong point, crazy.. Available only ...          0\n",
       "1   ham                      Ok lar... Joking wif u oni...          0\n",
       "2  spam  Free entry in 2 a wkly comp to win FA Cup fina...          1\n",
       "3   ham  U dun say so early hor... U c already then say...          0\n",
       "4   ham  Nah I don't think he goes to usf, he lives aro...          0"
      ]
     },
     "execution_count": 2,
     "metadata": {},
     "output_type": "execute_result"
    }
   ],
   "source": [
    "df = pd.read_csv('SMSSpamCollection', header=None, delimiter='\\t')\n",
    "df.columns = ['label', 'text']\n",
    "df['num_label'] = (df.label == 'spam') * 1\n",
    "y_train = df.num_label.values\n",
    "df.head()"
   ]
  },
  {
   "cell_type": "code",
   "execution_count": 3,
   "metadata": {
    "collapsed": true,
    "deletable": true,
    "editable": true
   },
   "outputs": [],
   "source": [
    "X_test_text = ['FreeMsg: Txt: CALL to No: 86888 & claim your reward of 3 hours talk time to use fromyour phone now! Subscribe6GB', \n",
    "               \"FreeMsg: Txt: claim your reward of 3 hours talk time\", \n",
    "               \"Have you visited the last lecture on physics?\", \n",
    "               \"Have you visited the last lecture on physics? Just buy this book and you will have all materials! Only 99$\", \n",
    "               \"Only 99$\"]"
   ]
  },
  {
   "cell_type": "code",
   "execution_count": 4,
   "metadata": {
    "collapsed": true,
    "deletable": true,
    "editable": true
   },
   "outputs": [],
   "source": [
    "log_cls = LogisticRegression()"
   ]
  },
  {
   "cell_type": "code",
   "execution_count": 5,
   "metadata": {
    "collapsed": false,
    "deletable": true,
    "editable": true
   },
   "outputs": [
    {
     "name": "stdout",
     "output_type": "stream",
     "text": [
      "CPU times: user 184 ms, sys: 28 ms, total: 212 ms\n",
      "Wall time: 216 ms\n",
      "(5572, 8713)\n",
      "0.932640298361\n",
      "CPU times: user 64 ms, sys: 0 ns, total: 64 ms\n",
      "Wall time: 62.4 ms\n",
      "CPU times: user 0 ns, sys: 0 ns, total: 0 ns\n",
      "Wall time: 261 µs\n",
      "[1 1 0 0 0]\n"
     ]
    }
   ],
   "source": [
    "vectorizer = CountVectorizer()\n",
    "%time X_train = vectorizer.fit_transform(df.text.values)\n",
    "print X_train.shape\n",
    "res = cross_val_score(log_cls, X_train, y_train, scoring=\"f1\", cv=10)\n",
    "print np.mean(res)\n",
    "X_test = vectorizer.transform(X_test_text)\n",
    "%time log_cls.fit(X_train, y_train)\n",
    "%time pred = log_cls.predict(X_test)\n",
    "print pred"
   ]
  },
  {
   "cell_type": "code",
   "execution_count": 6,
   "metadata": {
    "collapsed": false,
    "deletable": true,
    "editable": true
   },
   "outputs": [
    {
     "name": "stdout",
     "output_type": "stream",
     "text": [
      "CPU times: user 544 ms, sys: 24 ms, total: 568 ms\n",
      "Wall time: 525 ms\n",
      "(5572, 41793)\n",
      "0.822422066419\n",
      "CPU times: user 76 ms, sys: 0 ns, total: 76 ms\n",
      "Wall time: 74.1 ms\n",
      "CPU times: user 0 ns, sys: 0 ns, total: 0 ns\n",
      "Wall time: 311 µs\n",
      "[1 0 0 0 0]\n"
     ]
    }
   ],
   "source": [
    "vectorizer2 = CountVectorizer(ngram_range=(2, 2))\n",
    "%time X_train2 = vectorizer2.fit_transform(df.text.values)\n",
    "print X_train2.shape\n",
    "res = cross_val_score(log_cls, X_train2, y_train, scoring=\"f1\", cv=10)\n",
    "print np.mean(res)\n",
    "X_test2 = vectorizer2.transform(X_test_text)\n",
    "%time log_cls.fit(X_train2, y_train)\n",
    "%time pred = log_cls.predict(X_test2)\n",
    "print pred"
   ]
  },
  {
   "cell_type": "code",
   "execution_count": 7,
   "metadata": {
    "collapsed": false,
    "deletable": true,
    "editable": true
   },
   "outputs": [
    {
     "name": "stdout",
     "output_type": "stream",
     "text": [
      "CPU times: user 568 ms, sys: 32 ms, total: 600 ms\n",
      "Wall time: 555 ms\n",
      "(5572, 54461)\n",
      "0.725016155547\n",
      "CPU times: user 96 ms, sys: 0 ns, total: 96 ms\n",
      "Wall time: 98.3 ms\n",
      "CPU times: user 0 ns, sys: 0 ns, total: 0 ns\n",
      "Wall time: 357 µs\n",
      "[0 0 0 0 0]\n"
     ]
    }
   ],
   "source": [
    "vectorizer3 = CountVectorizer(ngram_range=(3, 3))\n",
    "%time X_train3 = vectorizer3.fit_transform(df.text.values)\n",
    "print X_train3.shape\n",
    "res = cross_val_score(log_cls, X_train3, y_train, scoring=\"f1\", cv=10)\n",
    "print np.mean(res)\n",
    "X_test3 = vectorizer3.transform(X_test_text)\n",
    "%time log_cls.fit(X_train3, y_train)\n",
    "%time pred = log_cls.predict(X_test3)\n",
    "print pred"
   ]
  },
  {
   "cell_type": "code",
   "execution_count": 8,
   "metadata": {
    "collapsed": false,
    "deletable": true,
    "editable": true
   },
   "outputs": [
    {
     "name": "stdout",
     "output_type": "stream",
     "text": [
      "CPU times: user 1.12 s, sys: 44 ms, total: 1.16 s\n",
      "Wall time: 1.13 s\n",
      "(5572, 104967)\n",
      "0.925138255865\n",
      "CPU times: user 472 ms, sys: 0 ns, total: 472 ms\n",
      "Wall time: 470 ms\n",
      "CPU times: user 4 ms, sys: 0 ns, total: 4 ms\n",
      "Wall time: 316 µs\n",
      "[1 0 0 0 0]\n"
     ]
    }
   ],
   "source": [
    "vectorizer13 = CountVectorizer(ngram_range=(1, 3))\n",
    "%time X_train13 = vectorizer13.fit_transform(df.text.values)\n",
    "print X_train13.shape\n",
    "res = cross_val_score(log_cls, X_train13, y_train, scoring=\"f1\", cv=10)\n",
    "print np.mean(res)\n",
    "X_test13 = vectorizer13.transform(X_test_text)\n",
    "%time log_cls.fit(X_train13, y_train)\n",
    "%time pred = log_cls.predict(X_test13)\n",
    "print pred"
   ]
  },
  {
   "cell_type": "code",
   "execution_count": 9,
   "metadata": {
    "collapsed": true,
    "deletable": true,
    "editable": true
   },
   "outputs": [],
   "source": [
    "b_cls = MultinomialNB()"
   ]
  },
  {
   "cell_type": "code",
   "execution_count": 10,
   "metadata": {
    "collapsed": false,
    "deletable": true,
    "editable": true
   },
   "outputs": [
    {
     "name": "stdout",
     "output_type": "stream",
     "text": [
      "0.927730355685\n",
      "CPU times: user 4 ms, sys: 0 ns, total: 4 ms\n",
      "Wall time: 3.35 ms\n",
      "CPU times: user 0 ns, sys: 0 ns, total: 0 ns\n",
      "Wall time: 423 µs\n",
      "[1 1 0 0 1]\n"
     ]
    }
   ],
   "source": [
    "res = cross_val_score(b_cls, X_train, y_train, scoring=\"f1\", cv=10)\n",
    "print np.mean(res)\n",
    "%time b_cls.fit(X_train, y_train)\n",
    "%time pred = b_cls.predict(X_test)\n",
    "print pred"
   ]
  },
  {
   "cell_type": "code",
   "execution_count": 11,
   "metadata": {
    "collapsed": false,
    "deletable": true,
    "editable": true
   },
   "outputs": [
    {
     "name": "stdout",
     "output_type": "stream",
     "text": [
      "0.645501517799\n",
      "CPU times: user 8 ms, sys: 0 ns, total: 8 ms\n",
      "Wall time: 7.06 ms\n",
      "CPU times: user 4 ms, sys: 0 ns, total: 4 ms\n",
      "Wall time: 830 µs\n",
      "[1 1 0 0 0]\n"
     ]
    }
   ],
   "source": [
    "res = cross_val_score(b_cls, X_train2, y_train, scoring=\"f1\", cv=10)\n",
    "print np.mean(res)\n",
    "%time b_cls.fit(X_train2, y_train)\n",
    "%time pred = b_cls.predict(X_test2)\n",
    "print pred"
   ]
  },
  {
   "cell_type": "code",
   "execution_count": 12,
   "metadata": {
    "collapsed": false,
    "deletable": true,
    "editable": true
   },
   "outputs": [
    {
     "name": "stdout",
     "output_type": "stream",
     "text": [
      "0.378719485246\n",
      "CPU times: user 8 ms, sys: 0 ns, total: 8 ms\n",
      "Wall time: 7.06 ms\n",
      "CPU times: user 0 ns, sys: 0 ns, total: 0 ns\n",
      "Wall time: 887 µs\n",
      "[1 1 0 0 0]\n"
     ]
    }
   ],
   "source": [
    "res = cross_val_score(b_cls, X_train3, y_train, scoring=\"f1\", cv=10)\n",
    "print np.mean(res)\n",
    "%time b_cls.fit(X_train3, y_train)\n",
    "%time pred = b_cls.predict(X_test3)\n",
    "print pred"
   ]
  },
  {
   "cell_type": "code",
   "execution_count": 13,
   "metadata": {
    "collapsed": false,
    "deletable": true,
    "editable": true
   },
   "outputs": [
    {
     "name": "stdout",
     "output_type": "stream",
     "text": [
      "0.888485965606\n",
      "CPU times: user 16 ms, sys: 0 ns, total: 16 ms\n",
      "Wall time: 14.3 ms\n",
      "CPU times: user 4 ms, sys: 0 ns, total: 4 ms\n",
      "Wall time: 1.38 ms\n",
      "[1 1 0 0 0]\n"
     ]
    }
   ],
   "source": [
    "res = cross_val_score(b_cls, X_train13, y_train, scoring=\"f1\", cv=10)\n",
    "print np.mean(res)\n",
    "%time b_cls.fit(X_train13, y_train)\n",
    "%time pred = b_cls.predict(X_test13)\n",
    "print pred"
   ]
  },
  {
   "cell_type": "code",
   "execution_count": 14,
   "metadata": {
    "collapsed": false,
    "deletable": true,
    "editable": true
   },
   "outputs": [
    {
     "name": "stdout",
     "output_type": "stream",
     "text": [
      "CPU times: user 220 ms, sys: 16 ms, total: 236 ms\n",
      "Wall time: 210 ms\n",
      "(5572, 8713)\n",
      "0.852859955417\n",
      "CPU times: user 32 ms, sys: 0 ns, total: 32 ms\n",
      "Wall time: 29.7 ms\n",
      "CPU times: user 0 ns, sys: 0 ns, total: 0 ns\n",
      "Wall time: 264 µs\n",
      "[1 1 0 0 0]\n"
     ]
    }
   ],
   "source": [
    "vectorizertfidf = TfidfVectorizer()\n",
    "%time X_train_ti = vectorizertfidf.fit_transform(df.text.values)\n",
    "print X_train_ti.shape\n",
    "res = cross_val_score(log_cls, X_train_ti, y_train, scoring=\"f1\", cv=10)\n",
    "print np.mean(res)\n",
    "X_test_ti = vectorizertfidf.transform(X_test_text)\n",
    "%time log_cls.fit(X_train_ti, y_train)\n",
    "%time pred = log_cls.predict(X_test_ti)\n",
    "print pred"
   ]
  },
  {
   "cell_type": "code",
   "execution_count": 15,
   "metadata": {
    "collapsed": false,
    "deletable": true,
    "editable": true
   },
   "outputs": [
    {
     "name": "stdout",
     "output_type": "stream",
     "text": [
      "0.840253457542\n",
      "CPU times: user 4 ms, sys: 0 ns, total: 4 ms\n",
      "Wall time: 3.52 ms\n",
      "CPU times: user 0 ns, sys: 0 ns, total: 0 ns\n",
      "Wall time: 302 µs\n",
      "[0 1 0 0 0]\n"
     ]
    }
   ],
   "source": [
    "res = cross_val_score(b_cls, X_train_ti, y_train, scoring=\"f1\", cv=10)\n",
    "print np.mean(res)\n",
    "%time b_cls.fit(X_train_ti, y_train)\n",
    "%time pred = b_cls.predict(X_test_ti)\n",
    "print pred"
   ]
  },
  {
   "cell_type": "code",
   "execution_count": null,
   "metadata": {
    "collapsed": true,
    "deletable": true,
    "editable": true
   },
   "outputs": [],
   "source": []
  }
 ],
 "metadata": {
  "kernelspec": {
   "display_name": "Python 2",
   "language": "python",
   "name": "python2"
  },
  "language_info": {
   "codemirror_mode": {
    "name": "ipython",
    "version": 2
   },
   "file_extension": ".py",
   "mimetype": "text/x-python",
   "name": "python",
   "nbconvert_exporter": "python",
   "pygments_lexer": "ipython2",
   "version": "2.7.13"
  }
 },
 "nbformat": 4,
 "nbformat_minor": 1
}
